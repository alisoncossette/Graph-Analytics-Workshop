{
 "cells": [
  {
   "cell_type": "markdown",
   "metadata": {},
   "source": [
    "# Advanced GraphRAG for Agentic Retrieval\n",
    "**Graph ML, Algorithms, and Structured Knowledge Flows**\n",
    "\n",
    "Welcome to the workshop! In this notebook, we’ll:\n",
    "- Load a pre-built GraphRAG graph in Neo4j Aura\n",
    "- Create secondary relationships that reveal hidden chunk patterns\n",
    "- Apply graph algorithms (PageRank, betweenness) to highlight retrieval anchors\n",
    "- Blend Bayesian link prediction for next-best-chunk prediction\n",
    "- Rerank retrieval results for smarter LLM grounding\n",
    "- Show why graph insights are essential for real-world agentic systems"
   ]
  },
  {
   "cell_type": "code",
   "execution_count": null,
   "metadata": {},
   "outputs": [
    {
     "name": "stdout",
     "output_type": "stream",
     "text": [
      "Connected to Neo4j!\n"
     ]
    }
   ],
   "source": [
    "from neo4j import GraphDatabase\n",
    "import os\n",
    "import pandas as pd\n",
    "\n",
    "NEO4J_URI = os.getenv('NEO4J_URI')\n",
    "NEO4J_USER = os.getenv('NEO4J_USERNAME')\n",
    "NEO4J_PASSWORD = os.getenv('NEO4J_PASSWORD')\n",
    "OPENAI_API_KEY = os.getenv('OPENAI_API_KEY')\n",
    "\n",
    "driver = GraphDatabase.driver(NEO4J_URI, auth=(NEO4J_USER, NEO4J_PASSWORD))\n",
    "\n",
    "\n",
    "\n",
    "def run_query(query, parameters=None):\n",
    "    with driver.session() as session:\n",
    "        return list(session.run(query, parameters or {}))\n",
    "print('Connected to Neo4j!')\n"
   ]
  },
  {
   "cell_type": "markdown",
   "metadata": {},
   "source": [
    "## Basic Exploration: Node Types and Counts"
   ]
  },
  {
   "cell_type": "code",
   "execution_count": 4,
   "metadata": {},
   "outputs": [
    {
     "data": {
      "text/plain": [
       "[<Record labels=['Document'] count=15292>,\n",
       " <Record labels=['Source'] count=1214>,\n",
       " <Record labels=['Message'] count=669>,\n",
       " <Record labels=['Conversation'] count=236>,\n",
       " <Record labels=['Message', 'Assistant'] count=205>,\n",
       " <Record labels=['Session'] count=167>,\n",
       " <Record labels=['_Neodash_Dashboard'] count=2>]"
      ]
     },
     "execution_count": 4,
     "metadata": {},
     "output_type": "execute_result"
    }
   ],
   "source": [
    "run_query(\"\"\"\n",
    "MATCH (n)\n",
    "RETURN labels(n) AS labels, count(*) AS count\n",
    "ORDER BY count DESC;\n",
    "\"\"\")"
   ]
  },
  {
   "cell_type": "markdown",
   "metadata": {},
   "source": [
    "## 🔗 Creating Secondary Relationships\n",
    "These reveal co-occurrence and sequential patterns beyond static retrieval."
   ]
  },
  {
   "cell_type": "code",
   "execution_count": 25,
   "metadata": {},
   "outputs": [
    {
     "data": {
      "text/plain": [
       "[]"
      ]
     },
     "execution_count": 25,
     "metadata": {},
     "output_type": "execute_result"
    }
   ],
   "source": [
    "# Create CO_OCCURS_WITH edges\n",
    "run_query(\"\"\"\n",
    "MATCH (c1:Document)-[:HAS_CONTEXT]-(r:Message)-[:HAS_CONTEXT]-(c2:Document)\n",
    "WHERE elementId(c1) < elementId(c2)\n",
    "MERGE (c1)-[co:CO_OCCURS_WITH]->(c2)\n",
    "ON CREATE SET co.weight = 1\n",
    "ON MATCH SET co.weight = co.weight + 1\n",
    "\"\"\")"
   ]
  },
  {
   "cell_type": "markdown",
   "metadata": {},
   "source": [
    "## Graph Algorithms: PageRank & Betweenness Centrality"
   ]
  },
  {
   "cell_type": "code",
   "execution_count": 24,
   "id": "1d3a0648",
   "metadata": {},
   "outputs": [
    {
     "ename": "ClientError",
     "evalue": "{code: Neo.ClientError.Procedure.ProcedureCallFailed} {message: Failed to invoke procedure `gds.graph.project`: Caused by: java.lang.IllegalArgumentException: A graph with name 'docs_co' already exists.}",
     "output_type": "error",
     "traceback": [
      "\u001b[1;31m---------------------------------------------------------------------------\u001b[0m",
      "\u001b[1;31mGqlError\u001b[0m                                  Traceback (most recent call last)",
      "\u001b[1;31mGqlError\u001b[0m: {gql_status: 52U00} {gql_status_description: error: procedure exception - custom procedure execution error cause. Execution of the procedure gds.graph.project() failed due to java.lang.IllegalArgumentException: A graph with name 'docs_co' already exists..} {message: 52U00: Execution of the procedure gds.graph.project() failed due to java.lang.IllegalArgumentException: A graph with name 'docs_co' already exists..} {diagnostic_record: {'OPERATION': '', 'OPERATION_CODE': '0', 'CURRENT_SCHEMA': '/'}} {raw_classification: None}",
      "\nThe above exception was the direct cause of the following exception:\n",
      "\u001b[1;31mClientError\u001b[0m                               Traceback (most recent call last)",
      "Cell \u001b[1;32mIn[24], line 1\u001b[0m\n\u001b[1;32m----> 1\u001b[0m \u001b[43mrun_query\u001b[49m\u001b[43m(\u001b[49m\u001b[38;5;124;43m\"\"\"\u001b[39;49m\n\u001b[0;32m      2\u001b[0m \u001b[38;5;124;43mCALL gds.graph.project(\u001b[39;49m\n\u001b[0;32m      3\u001b[0m \u001b[38;5;124;43m  \u001b[39;49m\u001b[38;5;124;43m'\u001b[39;49m\u001b[38;5;124;43mdocs_co\u001b[39;49m\u001b[38;5;124;43m'\u001b[39;49m\u001b[38;5;124;43m,\u001b[39;49m\n\u001b[0;32m      4\u001b[0m \u001b[38;5;124;43m  \u001b[39;49m\u001b[38;5;124;43m{\u001b[39;49m\n\u001b[0;32m      5\u001b[0m \u001b[38;5;124;43m    Document: \u001b[39;49m\u001b[38;5;124;43m{\u001b[39;49m\n\u001b[0;32m      6\u001b[0m \u001b[38;5;124;43m      properties: [\u001b[39;49m\u001b[38;5;124;43m'\u001b[39;49m\u001b[38;5;124;43membedding\u001b[39;49m\u001b[38;5;124;43m'\u001b[39;49m\u001b[38;5;124;43m]\u001b[39;49m\n\u001b[0;32m      7\u001b[0m \u001b[38;5;124;43m    }\u001b[39;49m\n\u001b[0;32m      8\u001b[0m \u001b[38;5;124;43m  },\u001b[39;49m\n\u001b[0;32m      9\u001b[0m \u001b[38;5;124;43m  \u001b[39;49m\u001b[38;5;124;43m{\u001b[39;49m\n\u001b[0;32m     10\u001b[0m \u001b[38;5;124;43m    CO_OCCURS_WITH: \u001b[39;49m\u001b[38;5;124;43m{\u001b[39;49m\n\u001b[0;32m     11\u001b[0m \u001b[38;5;124;43m      type: \u001b[39;49m\u001b[38;5;124;43m'\u001b[39;49m\u001b[38;5;124;43mCO_OCCURS_WITH\u001b[39;49m\u001b[38;5;124;43m'\u001b[39;49m\u001b[38;5;124;43m,\u001b[39;49m\n\u001b[0;32m     12\u001b[0m \u001b[38;5;124;43m      orientation: \u001b[39;49m\u001b[38;5;124;43m'\u001b[39;49m\u001b[38;5;124;43mUNDIRECTED\u001b[39;49m\u001b[38;5;124;43m'\u001b[39;49m\n\u001b[0;32m     13\u001b[0m \u001b[38;5;124;43m    }\u001b[39;49m\n\u001b[0;32m     14\u001b[0m \u001b[38;5;124;43m  }\u001b[39;49m\n\u001b[0;32m     15\u001b[0m \u001b[38;5;124;43m)\u001b[39;49m\n\u001b[0;32m     16\u001b[0m \u001b[38;5;124;43mYIELD graphName, nodeCount, relationshipCount\u001b[39;49m\n\u001b[0;32m     17\u001b[0m \u001b[38;5;124;43mRETURN graphName, nodeCount, relationshipCount\u001b[39;49m\n\u001b[0;32m     18\u001b[0m \u001b[38;5;124;43m\"\"\"\u001b[39;49m\u001b[43m)\u001b[49m\n",
      "Cell \u001b[1;32mIn[23], line 16\u001b[0m, in \u001b[0;36mrun_query\u001b[1;34m(query, parameters)\u001b[0m\n\u001b[0;32m     14\u001b[0m \u001b[38;5;28;01mdef\u001b[39;00m\u001b[38;5;250m \u001b[39m\u001b[38;5;21mrun_query\u001b[39m(query, parameters\u001b[38;5;241m=\u001b[39m\u001b[38;5;28;01mNone\u001b[39;00m):\n\u001b[0;32m     15\u001b[0m     \u001b[38;5;28;01mwith\u001b[39;00m driver\u001b[38;5;241m.\u001b[39msession() \u001b[38;5;28;01mas\u001b[39;00m session:\n\u001b[1;32m---> 16\u001b[0m         \u001b[38;5;28;01mreturn\u001b[39;00m \u001b[38;5;28;43mlist\u001b[39;49m\u001b[43m(\u001b[49m\u001b[43msession\u001b[49m\u001b[38;5;241;43m.\u001b[39;49m\u001b[43mrun\u001b[49m\u001b[43m(\u001b[49m\u001b[43mquery\u001b[49m\u001b[43m,\u001b[49m\u001b[43m \u001b[49m\u001b[43mparameters\u001b[49m\u001b[43m \u001b[49m\u001b[38;5;129;43;01mor\u001b[39;49;00m\u001b[43m \u001b[49m\u001b[43m{\u001b[49m\u001b[43m}\u001b[49m\u001b[43m)\u001b[49m\u001b[43m)\u001b[49m\n",
      "File \u001b[1;32mc:\\Users\\Alison Cossette\\OneDrive\\GitHub\\Graph Analytics Workshop\\.venv\\lib\\site-packages\\neo4j\\_sync\\work\\result.py:398\u001b[0m, in \u001b[0;36mResult.__iter__\u001b[1;34m(self)\u001b[0m\n\u001b[0;32m    396\u001b[0m     \u001b[38;5;28;01myield\u001b[39;00m \u001b[38;5;28mself\u001b[39m\u001b[38;5;241m.\u001b[39m_record_buffer\u001b[38;5;241m.\u001b[39mpopleft()\n\u001b[0;32m    397\u001b[0m \u001b[38;5;28;01melif\u001b[39;00m \u001b[38;5;28mself\u001b[39m\u001b[38;5;241m.\u001b[39m_streaming:\n\u001b[1;32m--> 398\u001b[0m     \u001b[38;5;28;43mself\u001b[39;49m\u001b[38;5;241;43m.\u001b[39;49m\u001b[43m_connection\u001b[49m\u001b[38;5;241;43m.\u001b[39;49m\u001b[43mfetch_message\u001b[49m\u001b[43m(\u001b[49m\u001b[43m)\u001b[49m\n\u001b[0;32m    399\u001b[0m \u001b[38;5;28;01melif\u001b[39;00m \u001b[38;5;28mself\u001b[39m\u001b[38;5;241m.\u001b[39m_discarding:\n\u001b[0;32m    400\u001b[0m     \u001b[38;5;28mself\u001b[39m\u001b[38;5;241m.\u001b[39m_discard()\n",
      "File \u001b[1;32mc:\\Users\\Alison Cossette\\OneDrive\\GitHub\\Graph Analytics Workshop\\.venv\\lib\\site-packages\\neo4j\\_sync\\io\\_common.py:184\u001b[0m, in \u001b[0;36mConnectionErrorHandler.__getattr__.<locals>.outer.<locals>.inner\u001b[1;34m(*args, **kwargs)\u001b[0m\n\u001b[0;32m    182\u001b[0m \u001b[38;5;28;01mdef\u001b[39;00m\u001b[38;5;250m \u001b[39m\u001b[38;5;21minner\u001b[39m(\u001b[38;5;241m*\u001b[39margs, \u001b[38;5;241m*\u001b[39m\u001b[38;5;241m*\u001b[39mkwargs):\n\u001b[0;32m    183\u001b[0m     \u001b[38;5;28;01mtry\u001b[39;00m:\n\u001b[1;32m--> 184\u001b[0m         func(\u001b[38;5;241m*\u001b[39margs, \u001b[38;5;241m*\u001b[39m\u001b[38;5;241m*\u001b[39mkwargs)\n\u001b[0;32m    185\u001b[0m     \u001b[38;5;28;01mexcept\u001b[39;00m (Neo4jError, ServiceUnavailable, SessionExpired) \u001b[38;5;28;01mas\u001b[39;00m exc:\n\u001b[0;32m    186\u001b[0m         \u001b[38;5;28;01massert\u001b[39;00m \u001b[38;5;129;01mnot\u001b[39;00m asyncio\u001b[38;5;241m.\u001b[39miscoroutinefunction(\u001b[38;5;28mself\u001b[39m\u001b[38;5;241m.\u001b[39m__on_error)\n",
      "File \u001b[1;32mc:\\Users\\Alison Cossette\\OneDrive\\GitHub\\Graph Analytics Workshop\\.venv\\lib\\site-packages\\neo4j\\_sync\\io\\_bolt.py:864\u001b[0m, in \u001b[0;36mBolt.fetch_message\u001b[1;34m(self)\u001b[0m\n\u001b[0;32m    860\u001b[0m \u001b[38;5;66;03m# Receive exactly one message\u001b[39;00m\n\u001b[0;32m    861\u001b[0m tag, fields \u001b[38;5;241m=\u001b[39m \u001b[38;5;28mself\u001b[39m\u001b[38;5;241m.\u001b[39minbox\u001b[38;5;241m.\u001b[39mpop(\n\u001b[0;32m    862\u001b[0m     hydration_hooks\u001b[38;5;241m=\u001b[39m\u001b[38;5;28mself\u001b[39m\u001b[38;5;241m.\u001b[39mresponses[\u001b[38;5;241m0\u001b[39m]\u001b[38;5;241m.\u001b[39mhydration_hooks\n\u001b[0;32m    863\u001b[0m )\n\u001b[1;32m--> 864\u001b[0m res \u001b[38;5;241m=\u001b[39m \u001b[38;5;28;43mself\u001b[39;49m\u001b[38;5;241;43m.\u001b[39;49m\u001b[43m_process_message\u001b[49m\u001b[43m(\u001b[49m\u001b[43mtag\u001b[49m\u001b[43m,\u001b[49m\u001b[43m \u001b[49m\u001b[43mfields\u001b[49m\u001b[43m)\u001b[49m\n\u001b[0;32m    865\u001b[0m \u001b[38;5;28mself\u001b[39m\u001b[38;5;241m.\u001b[39midle_since \u001b[38;5;241m=\u001b[39m monotonic()\n\u001b[0;32m    866\u001b[0m \u001b[38;5;28;01mreturn\u001b[39;00m res\n",
      "File \u001b[1;32mc:\\Users\\Alison Cossette\\OneDrive\\GitHub\\Graph Analytics Workshop\\.venv\\lib\\site-packages\\neo4j\\_sync\\io\\_bolt5.py:1208\u001b[0m, in \u001b[0;36mBolt5x7._process_message\u001b[1;34m(self, tag, fields)\u001b[0m\n\u001b[0;32m   1206\u001b[0m \u001b[38;5;28mself\u001b[39m\u001b[38;5;241m.\u001b[39m_enrich_error_diagnostic_record(summary_metadata)\n\u001b[0;32m   1207\u001b[0m \u001b[38;5;28;01mtry\u001b[39;00m:\n\u001b[1;32m-> 1208\u001b[0m     \u001b[43mresponse\u001b[49m\u001b[38;5;241;43m.\u001b[39;49m\u001b[43mon_failure\u001b[49m\u001b[43m(\u001b[49m\u001b[43msummary_metadata\u001b[49m\u001b[43m \u001b[49m\u001b[38;5;129;43;01mor\u001b[39;49;00m\u001b[43m \u001b[49m\u001b[43m{\u001b[49m\u001b[43m}\u001b[49m\u001b[43m)\u001b[49m\n\u001b[0;32m   1209\u001b[0m \u001b[38;5;28;01mexcept\u001b[39;00m (ServiceUnavailable, DatabaseUnavailable):\n\u001b[0;32m   1210\u001b[0m     \u001b[38;5;28;01mif\u001b[39;00m \u001b[38;5;28mself\u001b[39m\u001b[38;5;241m.\u001b[39mpool:\n",
      "File \u001b[1;32mc:\\Users\\Alison Cossette\\OneDrive\\GitHub\\Graph Analytics Workshop\\.venv\\lib\\site-packages\\neo4j\\_sync\\io\\_common.py:254\u001b[0m, in \u001b[0;36mResponse.on_failure\u001b[1;34m(self, metadata)\u001b[0m\n\u001b[0;32m    252\u001b[0m handler \u001b[38;5;241m=\u001b[39m \u001b[38;5;28mself\u001b[39m\u001b[38;5;241m.\u001b[39mhandlers\u001b[38;5;241m.\u001b[39mget(\u001b[38;5;124m\"\u001b[39m\u001b[38;5;124mon_summary\u001b[39m\u001b[38;5;124m\"\u001b[39m)\n\u001b[0;32m    253\u001b[0m Util\u001b[38;5;241m.\u001b[39mcallback(handler)\n\u001b[1;32m--> 254\u001b[0m \u001b[38;5;28;01mraise\u001b[39;00m \u001b[38;5;28mself\u001b[39m\u001b[38;5;241m.\u001b[39m_hydrate_error(metadata)\n",
      "\u001b[1;31mClientError\u001b[0m: {code: Neo.ClientError.Procedure.ProcedureCallFailed} {message: Failed to invoke procedure `gds.graph.project`: Caused by: java.lang.IllegalArgumentException: A graph with name 'docs_co' already exists.}"
     ]
    }
   ],
   "source": [
    "run_query(\"\"\"\n",
    "CALL gds.graph.project(\n",
    "  'docs_co',\n",
    "  {\n",
    "    Document: {\n",
    "      properties: ['embedding']\n",
    "    }\n",
    "  },\n",
    "  {\n",
    "    CO_OCCURS_WITH: {\n",
    "      type: 'CO_OCCURS_WITH',\n",
    "      orientation: 'UNDIRECTED'\n",
    "    }\n",
    "  }\n",
    ")\n",
    "YIELD graphName, nodeCount, relationshipCount\n",
    "RETURN graphName, nodeCount, relationshipCount\n",
    "\"\"\")"
   ]
  },
  {
   "cell_type": "code",
   "execution_count": 30,
   "metadata": {},
   "outputs": [
    {
     "data": {
      "text/html": [
       "<div>\n",
       "<style scoped>\n",
       "    .dataframe tbody tr th:only-of-type {\n",
       "        vertical-align: middle;\n",
       "    }\n",
       "\n",
       "    .dataframe tbody tr th {\n",
       "        vertical-align: top;\n",
       "    }\n",
       "\n",
       "    .dataframe thead th {\n",
       "        text-align: right;\n",
       "    }\n",
       "</style>\n",
       "<table border=\"1\" class=\"dataframe\">\n",
       "  <thead>\n",
       "    <tr style=\"text-align: right;\">\n",
       "      <th></th>\n",
       "      <th>score</th>\n",
       "      <th>node_text</th>\n",
       "    </tr>\n",
       "  </thead>\n",
       "  <tbody>\n",
       "    <tr>\n",
       "      <th>0</th>\n",
       "      <td>141771.374239</td>\n",
       "      <td>GDS Degree Centrality algorithm is useful for ...</td>\n",
       "    </tr>\n",
       "    <tr>\n",
       "      <th>1</th>\n",
       "      <td>104392.804654</td>\n",
       "      <td>Exploring projected graphs after loading them ...</td>\n",
       "    </tr>\n",
       "    <tr>\n",
       "      <th>2</th>\n",
       "      <td>100949.048321</td>\n",
       "      <td>Perhaps you are a data scientist, or you aspir...</td>\n",
       "    </tr>\n",
       "    <tr>\n",
       "      <th>3</th>\n",
       "      <td>70493.711938</td>\n",
       "      <td>Unlock Enterprise Data: LLMs + Knowledge Graph...</td>\n",
       "    </tr>\n",
       "    <tr>\n",
       "      <th>4</th>\n",
       "      <td>60613.134404</td>\n",
       "      <td>Graph Algorithms Path Finding Procedures Schem...</td>\n",
       "    </tr>\n",
       "  </tbody>\n",
       "</table>\n",
       "</div>"
      ],
      "text/plain": [
       "           score                                          node_text\n",
       "0  141771.374239  GDS Degree Centrality algorithm is useful for ...\n",
       "1  104392.804654  Exploring projected graphs after loading them ...\n",
       "2  100949.048321  Perhaps you are a data scientist, or you aspir...\n",
       "3   70493.711938  Unlock Enterprise Data: LLMs + Knowledge Graph...\n",
       "4   60613.134404  Graph Algorithms Path Finding Procedures Schem..."
      ]
     },
     "execution_count": 30,
     "metadata": {},
     "output_type": "execute_result"
    }
   ],
   "source": [
    "# Betweenness Centrality\n",
    "df_betweenness = pd.DataFrame(run_query(\"\"\"\n",
    "CALL gds.betweenness.stream('docs_co')\n",
    "YIELD nodeId, score\n",
    "RETURN  score, gds.util.asNode(nodeId).text AS node_text\n",
    "ORDER BY score DESC LIMIT 10\n",
    "\"\"\"), columns=['score', 'node_text'])  \n",
    "df_betweenness.head()"
   ]
  },
  {
   "cell_type": "markdown",
   "metadata": {},
   "source": [
    "## 🛠️ Final Engineering Use: Reranking with Bayesian + Vector Similarity"
   ]
  },
  {
   "cell_type": "code",
   "execution_count": 31,
   "metadata": {},
   "outputs": [
    {
     "data": {
      "text/plain": [
       "[('chunk2', 0.849), ('chunk1', 0.794)]"
      ]
     },
     "execution_count": 31,
     "metadata": {},
     "output_type": "execute_result"
    }
   ],
   "source": [
    "vector_scores = {'chunk1': 0.92, 'chunk2': 0.87}\n",
    "bayesian_probs = {'chunk1': 0.5, 'chunk2': 0.8}\n",
    "\n",
    "alpha = 0.7\n",
    "final_scores = {chunk: alpha * v + (1 - alpha) * bayesian_probs.get(chunk, 0) \n",
    "                 for chunk, v in vector_scores.items()}\n",
    "sorted(final_scores.items(), key=lambda x: x[1], reverse=True)"
   ]
  },
  {
   "cell_type": "markdown",
   "metadata": {},
   "source": [
    "✅ Graph insights make retrieval smarter and more robust for agentic systems.\n",
    "✅ Precompute graph signals for zero-latency serving.\n",
    "✅ Graph lineage and bridging chunks: the missing link for agents in real-world retrieval.\n",
    "**You can’t AI without graph!**"
   ]
  }
 ],
 "metadata": {
  "kernelspec": {
   "display_name": ".venv",
   "language": "python",
   "name": "python3"
  },
  "language_info": {
   "codemirror_mode": {
    "name": "ipython",
    "version": 3
   },
   "file_extension": ".py",
   "mimetype": "text/x-python",
   "name": "python",
   "nbconvert_exporter": "python",
   "pygments_lexer": "ipython3",
   "version": "3.10.11"
  }
 },
 "nbformat": 4,
 "nbformat_minor": 5
}
