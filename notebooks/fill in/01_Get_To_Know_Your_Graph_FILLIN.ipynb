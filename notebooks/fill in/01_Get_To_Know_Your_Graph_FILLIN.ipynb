{
 "cells": [
  {
   "cell_type": "markdown",
   "metadata": {},
   "source": [
    "# 1. Get To Know Your Graph\n",
    "\n",
    "In this notebook, you'll connect to your Neo4j database, establish a driver, and perform basic exploratory data analysis (EDA) to understand the structure and content of your knowledge graph.\n",
    "\n",
    "---\n",
    "\n",
    "## Table of Contents\n",
    "1. Connect to Neo4j\n",
    "2. Establish the Driver\n",
    "3. Basic Graph Statistics\n",
    "4. EDA on Source Documents\n"
   ]
  },
  {
   "cell_type": "markdown",
   "metadata": {},
   "source": [
    "## 1. Connect to Neo4j\n",
    "Fill in your credentials or use your .env file.\n"
   ]
  },
  {
   "cell_type": "code",
   "metadata": {},
   "source": [
    "from neo4j import GraphDatabase\n",
    "import os\n",
    "NEO4J_URI = os.getenv('NEO4J_URI', 'bolt://localhost:7687')\n",
    "NEO4J_USER = os.getenv('NEO4J_USERNAME', 'neo4j')\n",
    "NEO4J_PASSWORD = os.getenv('NEO4J_PASSWORD', 'your_password')\n",
    "driver = GraphDatabase.driver(NEO4J_URI, auth=(NEO4J_USER, NEO4J_PASSWORD))\n",
    "def run_query(query, parameters=None):\n",
    "    with driver.session() as session:\n",
    "        return list(session.run(query, parameters or {}))\n",
    "print('Connected to Neo4j!')"
   ]
  },
  {
   "cell_type": "markdown",
   "metadata": {},
   "source": [
    "## 2. Basic Graph Statistics\n",
    "Let's get a sense of the structure of your graph: node types, relationship types, and their counts.\n"
   ]
  },
  {
   "cell_type": "code",
   "metadata": {},
   "source": [
    "# Node label counts\n",
    "for record in run_query('MATCH (n) UNWIND labels(n) AS label RETURN label, count(*) AS count GROUP BY label ORDER BY count DESC'):\n",
    "    print(record)\n",
    "\n",
    "# Relationship type counts\n",
    "for record in run_query('MATCH ()-[r]->() RETURN type(r) AS rel_type, count(*) AS count GROUP BY rel_type ORDER BY count DESC'):\n",
    "    print(record)\n"
   ]
  },
  {
   "cell_type": "markdown",
   "metadata": {},
   "source": [
    "## 3. EDA on Source Documents\n",
    "Explore basic properties of your source documents, such as text length.\n"
   ]
  },
  {
   "cell_type": "code",
   "metadata": {},
   "source": [
    "# Preview a few documents\n",
    "for record in run_query('MATCH (d:Document) RETURN d.text AS text, d.title AS title LIMIT 3'):\n",
    "    print(f\"Title: {record['title']}\nText (first 200 chars): {record['text'][:200]}\n---\")\n",
    "\n",
    "# Text length stats\n",
    "lengths = [record['length'] for record in run_query('MATCH (d:Document) RETURN size(d.text) AS length')]\n",
    "if lengths:\n",
    "    import numpy as np\n",
    "    print(f'Mean length: {np.mean(lengths):.1f}')\n",
    "    print(f'Max length: {np.max(lengths)}')\n",
    "    print(f'Min length: {np.min(lengths)}')\n",
    "else:\n",
    "    print('No Document nodes with text found.')\n"
   ]
  },
  {
   "cell_type": "markdown",
   "metadata": {},
   "source": [
    "---\n",
    "You now have a basic understanding of your graph's structure and your source documents.\n",
    "You're ready for deeper analytics and retrieval!\n"
   ]
  }
 ],
 "metadata": {
  "kernelspec": {
   "display_name": "Python 3",
   "language": "python",
   "name": "python3"
  },
  "language_info": {
   "name": "python",
   "version": "3.10"
  }
 },
 "nbformat": 4,
 "nbformat_minor": 5
}
