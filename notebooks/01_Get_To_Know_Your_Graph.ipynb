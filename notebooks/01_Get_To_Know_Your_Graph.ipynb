{
 "cells": [
  {
   "cell_type": "markdown",
   "metadata": {},
   "source": [
    "# 1. Get To Know Your Graph\n",
    "\n",
    "In this notebook, you'll connect to your Neo4j database, establish a driver, and perform basic exploratory data analysis (EDA) to understand the structure and content of your knowledge graph.\n",
    "\n",
    "---\n",
    "\n",
    "## Table of Contents\n",
    "1. Connect to Neo4j\n",
    "2. Establish the Driver\n",
    "3. Basic Graph Statistics\n",
    "4. EDA on Source Documents\n"
   ]
  },
  {
   "cell_type": "markdown",
   "metadata": {},
   "source": [
    "## 1. Connect to Neo4j\n",
    "Fill in your credentials or use your .env file.\n"
   ]
  },
  {
   "cell_type": "code",
   "execution_count": null,
   "id": "71e91941",
   "metadata": {},
   "outputs": [],
   "source": [
    "%pip install -r requirements.txt"
   ]
  },
  {
   "cell_type": "code",
   "execution_count": null,
   "metadata": {},
   "outputs": [
    {
     "name": "stdout",
     "output_type": "stream",
     "text": [
      "Connected to Neo4j!\n"
     ]
    }
   ],
   "source": [
    "from neo4j import GraphDatabase\n",
    "import os\n",
    "\n",
    "NEO4J_URI = os.getenv('NEO4J_URI')\n",
    "NEO4J_USER = os.getenv('NEO4J_USERNAME')\n",
    "NEO4J_PASSWORD = os.getenv('NEO4J_PASSWORD')\n",
    "OPENAI_API_KEY = os.getenv('OPENAI_API_KEY')\n",
    "\n",
    "driver = GraphDatabase.driver(NEO4J_URI, auth=(NEO4J_USER, NEO4J_PASSWORD))\n",
    "\n",
    "\n",
    "\n",
    "def run_query(query, parameters=None):\n",
    "    with driver.session() as session:\n",
    "        return list(session.run(query, parameters or {}))\n",
    "print('Connected to Neo4j!')"
   ]
  },
  {
   "cell_type": "markdown",
   "metadata": {},
   "source": [
    "## 2. Basic Graph Statistics\n",
    "Let's get a sense of the structure of your graph: node types, relationship types, and their counts.\n"
   ]
  },
  {
   "cell_type": "code",
   "execution_count": 25,
   "id": "2271cc6e",
   "metadata": {},
   "outputs": [
    {
     "name": "stdout",
     "output_type": "stream",
     "text": [
      "Total node count: 17785\n",
      "Total relationship count: 774608\n",
      "Label count: 7\n",
      "Relationship type count: 24\n"
     ]
    }
   ],
   "source": [
    "# Call apoc.meta.stats() to get a summary of the graph\n",
    "with driver.session() as session:\n",
    "    result = session.run(\"CALL apoc.meta.stats()\").single()\n",
    "    apoc_stats = dict(result)\n",
    "\n",
    "# View selected fields\n",
    "print(\"Total node count:\", apoc_stats['nodeCount'])\n",
    "print(\"Total relationship count:\", apoc_stats['relCount'])\n",
    "print(\"Label count:\", len(apoc_stats['labels']))\n",
    "print(\"Relationship type count:\", len(apoc_stats['relTypes']))"
   ]
  },
  {
   "cell_type": "markdown",
   "metadata": {},
   "source": [
    "## 3. EDA on Source Documents\n",
    "Explore basic properties of your source documents, such as text length.\n"
   ]
  },
  {
   "cell_type": "code",
   "execution_count": 27,
   "metadata": {},
   "outputs": [
    {
     "name": "stdout",
     "output_type": "stream",
     "text": [
      "Title: NoneText (first 200 chars): For numerical values passed in as parameters, Cypher does not take the size of the number into account. Cypher will therefore regard any exact numerical parameter as an INTEGER regardless of its decla\n",
      "Title: NoneText (first 200 chars): Projecting graphs using Cypher (deprecated) This page describes the Legacy Cypher projection, which is deprecated. The replacement is to use the new Cypher projection, which is described in Projecting\n",
      "Title: NoneText (first 200 chars): Using Legacy Cypher projections is a more flexible and expressive approach with diminished focus on performance compared to the native projections. Legacy Cypher projections are primarily recommended \n",
      "Mean length: 497.4\n",
      "Max length: 2807\n",
      "Min length: 1\n"
     ]
    }
   ],
   "source": [
    "# Preview a few documents\n",
    "for record in run_query('MATCH (d:Document) RETURN d.text AS text, d.title AS title LIMIT 3'):\n",
    "    print(f\"Title: {record['title']}Text (first 200 chars): {record['text'][:200]}\")\n",
    "\n",
    "# Text length stats\n",
    "lengths = [record['length'] for record in run_query('MATCH (d:Document) RETURN size(d.text) AS length')]\n",
    "if lengths:\n",
    "    import numpy as np\n",
    "    print(f'Mean length: {np.mean(lengths):.1f}')\n",
    "    print(f'Max length: {np.max(lengths)}')\n",
    "    print(f'Min length: {np.min(lengths)}')\n",
    "else:\n",
    "    print('No Document nodes with text found.')\n"
   ]
  },
  {
   "cell_type": "markdown",
   "metadata": {},
   "source": [
    "---\n",
    "You now have a basic understanding of your graph's structure and your source documents.\n",
    "You're ready for deeper analytics and retrieval!\n"
   ]
  }
 ],
 "metadata": {
  "kernelspec": {
   "display_name": ".venv",
   "language": "python",
   "name": "python3"
  },
  "language_info": {
   "codemirror_mode": {
    "name": "ipython",
    "version": 3
   },
   "file_extension": ".py",
   "mimetype": "text/x-python",
   "name": "python",
   "nbconvert_exporter": "python",
   "pygments_lexer": "ipython3",
   "version": "3.10.11"
  }
 },
 "nbformat": 4,
 "nbformat_minor": 5
}
