{
 "cells": [
  {
   "cell_type": "markdown",
   "metadata": {},
   "source": [
    "# 2. Communities, KNN, and Data Quality\n",
    "\n",
    "In this notebook, you'll:\n",
    "- Run KNN similarity and create relationships (K=25)\n",
    "- Run Louvain community detection and assign community IDs\n",
    "- Perform EDA on communities (size, median word length/count)\n",
    "- Identify text chunk outliers\n",
    "- Compute average similarity by community\n",
    "- Identify and handle highly similar/duplicate nodes (with apoc.nodes.collapse)\n",
    "- Discuss maintenance at scale\n"
   ]
  },
  {
   "cell_type": "markdown",
   "metadata": {},
   "source": [
    "## 1. Run KNN on Similarity\n",
    "We'll use the GDS KNN algorithm to find the 25 most similar nodes for each node based on their embeddings.\n"
   ]
  },
  {
   "cell_type": "code",
   "execution_count": 1,
   "id": "72a43ef2",
   "metadata": {},
   "outputs": [
    {
     "name": "stdout",
     "output_type": "stream",
     "text": [
      "Connected to Neo4j!\n"
     ]
    }
   ],
   "source": [
    "from neo4j import GraphDatabase\n",
    "from graphdatascience import GraphDataScience\n",
    "import os\n",
    "\n",
    "NEO4J_URI = os.getenv('NEO4J_URI')\n",
    "NEO4J_USER = os.getenv('NEO4J_USERNAME')\n",
    "NEO4J_PASSWORD = os.getenv('NEO4J_PASSWORD')\n",
    "\n",
    "driver = GraphDatabase.driver(NEO4J_URI, auth=(NEO4J_USER, NEO4J_PASSWORD))\n",
    "\n",
    "\n",
    "\n",
    "def run_query(query, parameters=None):\n",
    "    with driver.session() as session:\n",
    "        return list(session.run(query, parameters or {}))\n",
    "print('Connected to Neo4j!')"
   ]
  },
  {
   "cell_type": "markdown",
   "id": "849f9c0b",
   "metadata": {},
   "source": [
    "## Projecting a KNN Graph with an Empty Relationship\n",
    "\n",
    "To use the Neo4j GDS library for KNN, you must project a graph that includes both nodes and at least one relationship type. If your data does not have any existing relationships, you can create an empty relationship type as a placeholder.\n",
    "\n",
    "### 1. Create an Empty Relationship Type\n",
    "\n",
    "```python\n",
    "run_query(\"\"\"\n",
    "CALL db.createRelationshipType('EMPTY')\n",
    "\"\"\")\n",
    "```\n",
    "\n",
    "### 2. Project the Graph with the Empty Relationship\n",
    "\n",
    "This projects an in-memory graph named docs with all Document nodes and their embedding property, using the empty EMPTY relationship type.\n",
    "\n",
    "You can now use this projected graph for KNN or other GDS algorithms that require a relationship projection.\n"
   ]
  },
  {
   "cell_type": "code",
   "execution_count": 8,
   "id": "ab941584",
   "metadata": {},
   "outputs": [
    {
     "data": {
      "text/plain": [
       "[<Record graphName='docs' nodeCount=15292 relationshipCount=0>]"
      ]
     },
     "execution_count": 8,
     "metadata": {},
     "output_type": "execute_result"
    }
   ],
   "source": [
    "# create empty relationship type\n",
    "run_query(\"\"\"\n",
    "CALL db.createRelationshipType('EMPTY')\n",
    "\"\"\")\n",
    "\n",
    "# project graph\n",
    "run_query(\"\"\"CALL gds.graph.project(\n",
    "'docs',\n",
    "    {\n",
    "    Document: {\n",
    "      properties: ['embedding']\n",
    "    }\n",
    "  },\n",
    "  {\n",
    "    EMPTY: {\n",
    "      type: 'EMPTY',\n",
    "      orientation: 'UNDIRECTED'\n",
    "    }\n",
    "  }\n",
    ")\n",
    "YIELD graphName, nodeCount, relationshipCount\n",
    "RETURN graphName, nodeCount, relationshipCount\"\"\")"
   ]
  },
  {
   "cell_type": "markdown",
   "id": "dc1047f2",
   "metadata": {},
   "source": [
    "## Creating KNN Relationships Using Neo4j GDS\n",
    "\n",
    "With our in-memory graph projected, we are ready to compute k-nearest neighbor (KNN) relationships between `Document` nodes. The KNN algorithm will compare node embeddings and identify the most similar nodes for each document.\n",
    "\n",
    "Running the KNN algorithm will generate `SIMILAR` relationships between documents, with a similarity score stored as a relationship property. These relationships can then be used for downstream graph analytics, such as community detection or visualization.\n",
    "\n",
    "In order to save workshop time, we will only mutate the rather than write as these have already been created in the db."
   ]
  },
  {
   "cell_type": "code",
   "execution_count": 10,
   "id": "4ccf3ff1",
   "metadata": {},
   "outputs": [
    {
     "data": {
      "text/plain": [
       "[]"
      ]
     },
     "execution_count": 10,
     "metadata": {},
     "output_type": "execute_result"
    }
   ],
   "source": [
    "run_query(\"\"\"\n",
    "CALL gds.knn.stream('docs', {\n",
    "  topK: 25,\n",
    "  nodeProperties: ['embedding'],\n",
    "  concurrency: 1\n",
    "})\n",
    "YIELD node1, node2, similarity\n",
    "WITH gds.util.asNode(node1) AS doc1, gds.util.asNode(node2) AS doc2, similarity\n",
    "MERGE (doc1)-[r:SIMILAR]->(doc2)\n",
    "SET r.score = similarity\n",
    "\"\"\")"
   ]
  },
  {
   "cell_type": "markdown",
   "metadata": {},
   "source": [
    "## 2. Community Detection and Assignment\n",
    "We'll run Louvain community detection and assign a community ID to each node.\n"
   ]
  },
  {
   "cell_type": "code",
   "execution_count": 59,
   "id": "075beb18",
   "metadata": {},
   "outputs": [
    {
     "data": {
      "text/plain": [
       "[<Record graphName='docs_community' nodeCount=15292 relationshipCount=211086>]"
      ]
     },
     "execution_count": 59,
     "metadata": {},
     "output_type": "execute_result"
    }
   ],
   "source": [
    "run_query(\"\"\"\n",
    "CALL gds.graph.project(\n",
    "  'docs_community',\n",
    "  {\n",
    "    Document: {\n",
    "      properties: ['embedding']\n",
    "    }\n",
    "  },\n",
    "  {\n",
    "    SIMILAR: {\n",
    "      type: 'SIMILAR',\n",
    "      orientation: 'UNDIRECTED',\n",
    "      properties: {\n",
    "        score: {\n",
    "          property: 'score'\n",
    "        }\n",
    "      }\n",
    "    }\n",
    "  }\n",
    ")\n",
    "YIELD graphName, nodeCount, relationshipCount\n",
    "RETURN graphName, nodeCount, relationshipCount\n",
    "\"\"\")"
   ]
  },
  {
   "cell_type": "markdown",
   "id": "5a79a984",
   "metadata": {},
   "source": [
    "## Community Detection with Louvain\n",
    "\n",
    "Now that our documents are connected by `SIMILAR` relationships, we can use the Louvain algorithm to detect communities within the graph. This will assign a community ID to each document node, grouping similar documents together based on the structure of the graph."
   ]
  },
  {
   "cell_type": "code",
   "execution_count": 63,
   "id": "77877be7",
   "metadata": {},
   "outputs": [
    {
     "data": {
      "text/plain": [
       "[<Record communityCount=37 modularity=0.8511544996331966>]"
      ]
     },
     "execution_count": 63,
     "metadata": {},
     "output_type": "execute_result"
    }
   ],
   "source": [
    "run_query(\"\"\"\n",
    "CALL gds.louvain.write('docs_community', {\n",
    "  writeProperty: 'community',\n",
    "  relationshipTypes: ['SIMILAR'],\n",
    "  relationshipWeightProperty: 'score'\n",
    "})\n",
    "YIELD communityCount, modularity, modularities\n",
    "RETURN communityCount, modularity\n",
    "\"\"\")"
   ]
  },
  {
   "cell_type": "code",
   "execution_count": 61,
   "id": "96ad6dc6",
   "metadata": {},
   "outputs": [
    {
     "data": {
      "text/plain": [
       "[<Record graphName='docs_scored' nodeCount=15292 relationshipCount=211086>]"
      ]
     },
     "execution_count": 61,
     "metadata": {},
     "output_type": "execute_result"
    }
   ],
   "source": [
    "run_query(\"\"\"\n",
    "CALL gds.graph.project(\n",
    "  'docs_scored',\n",
    "  {\n",
    "    Document: {\n",
    "      properties: ['embedding']\n",
    "    }\n",
    "  },\n",
    "  {\n",
    "    SIMILAR: {\n",
    "      type: 'SIMILAR',\n",
    "      orientation: 'UNDIRECTED',\n",
    "      properties: {\n",
    "        score: {\n",
    "          property: 'score'\n",
    "        }\n",
    "      }\n",
    "    }\n",
    "  }\n",
    ")\n",
    "YIELD graphName, nodeCount, relationshipCount\n",
    "RETURN graphName, nodeCount, relationshipCount\n",
    "\"\"\")"
   ]
  },
  {
   "cell_type": "code",
   "execution_count": 64,
   "id": "25993be7",
   "metadata": {},
   "outputs": [
    {
     "data": {
      "text/plain": [
       "[<Record community=8203 size=1306>,\n",
       " <Record community=15050 size=860>,\n",
       " <Record community=13929 size=823>,\n",
       " <Record community=13590 size=787>,\n",
       " <Record community=11583 size=783>,\n",
       " <Record community=12961 size=753>,\n",
       " <Record community=7561 size=736>,\n",
       " <Record community=5834 size=692>,\n",
       " <Record community=8863 size=658>,\n",
       " <Record community=14206 size=629>,\n",
       " <Record community=12564 size=628>,\n",
       " <Record community=10064 size=584>,\n",
       " <Record community=10822 size=506>,\n",
       " <Record community=3422 size=477>,\n",
       " <Record community=10791 size=456>,\n",
       " <Record community=14266 size=448>,\n",
       " <Record community=6496 size=438>,\n",
       " <Record community=8629 size=347>,\n",
       " <Record community=6236 size=318>,\n",
       " <Record community=6996 size=316>,\n",
       " <Record community=13401 size=301>,\n",
       " <Record community=13308 size=292>,\n",
       " <Record community=13020 size=279>,\n",
       " <Record community=3242 size=276>,\n",
       " <Record community=4861 size=254>,\n",
       " <Record community=8569 size=230>,\n",
       " <Record community=13265 size=190>,\n",
       " <Record community=11043 size=157>,\n",
       " <Record community=5765 size=154>,\n",
       " <Record community=4742 size=134>,\n",
       " <Record community=10384 size=128>,\n",
       " <Record community=10893 size=92>,\n",
       " <Record community=13763 size=91>,\n",
       " <Record community=11078 size=54>,\n",
       " <Record community=7584 size=52>,\n",
       " <Record community=12517 size=46>,\n",
       " <Record community=14173 size=17>]"
      ]
     },
     "execution_count": 64,
     "metadata": {},
     "output_type": "execute_result"
    }
   ],
   "source": [
    "run_query(\"\"\"\n",
    "MATCH (d:Document)\n",
    "RETURN d.community AS community, count(*) AS size\n",
    "ORDER BY size DESC\n",
    "\"\"\")"
   ]
  },
  {
   "cell_type": "code",
   "execution_count": 68,
   "id": "da079ad4",
   "metadata": {},
   "outputs": [
    {
     "data": {
      "text/plain": [
       "[]"
      ]
     },
     "execution_count": 68,
     "metadata": {},
     "output_type": "execute_result"
    }
   ],
   "source": [
    "run_query(\"\"\"\n",
    "MATCH (d:Document)-[:HAS_CONTEXT]->(c:Chunk)-[:HAS_RATING]]->(r:Rating)\n",
    "WHERE d.rating IS NOT NULL\n",
    "WITH d.community AS community,\n",
    "     count(*) AS total_responses,\n",
    "     sum(CASE WHEN d.rating >= 4 THEN 1 ELSE 0 END) AS good_responses\n",
    "RETURN community,\n",
    "       total_responses,\n",
    "       good_responses,\n",
    "       toFloat(good_responses) / total_responses * 100 AS percent_good\n",
    "ORDER BY percent_good DESC\n",
    "\"\"\")"
   ]
  },
  {
   "cell_type": "code",
   "execution_count": 75,
   "id": "241df47c",
   "metadata": {},
   "outputs": [],
   "source": [
    "import pandas as pd\n",
    "context_df = pd.DataFrame(run_query('''\n",
    "MATCH (d:Document)\n",
    "RETURN\n",
    "    d.index AS index,\n",
    "    d.url AS url,\n",
    "    d.text AS text\n",
    "'''),columns=[\"index\",\"url\",\"text\"])\n",
    "\n"
   ]
  },
  {
   "cell_type": "code",
   "execution_count": 76,
   "id": "1547fdf9",
   "metadata": {},
   "outputs": [
    {
     "data": {
      "text/html": [
       "<div>\n",
       "<style scoped>\n",
       "    .dataframe tbody tr th:only-of-type {\n",
       "        vertical-align: middle;\n",
       "    }\n",
       "\n",
       "    .dataframe tbody tr th {\n",
       "        vertical-align: top;\n",
       "    }\n",
       "\n",
       "    .dataframe thead th {\n",
       "        text-align: right;\n",
       "    }\n",
       "</style>\n",
       "<table border=\"1\" class=\"dataframe\">\n",
       "  <thead>\n",
       "    <tr style=\"text-align: right;\">\n",
       "      <th></th>\n",
       "      <th>index</th>\n",
       "      <th>url</th>\n",
       "      <th>text</th>\n",
       "    </tr>\n",
       "  </thead>\n",
       "  <tbody>\n",
       "    <tr>\n",
       "      <th>0</th>\n",
       "      <td>6430</td>\n",
       "      <td>https://neo4j.com/docs/cypher-manual/current/s...</td>\n",
       "      <td>For numerical values passed in as parameters, ...</td>\n",
       "    </tr>\n",
       "    <tr>\n",
       "      <th>1</th>\n",
       "      <td>0</td>\n",
       "      <td>https://neo4j.com/docs/graph-data-science/curr...</td>\n",
       "      <td>Projecting graphs using Cypher (deprecated) Th...</td>\n",
       "    </tr>\n",
       "    <tr>\n",
       "      <th>2</th>\n",
       "      <td>1</td>\n",
       "      <td>https://neo4j.com/docs/graph-data-science/curr...</td>\n",
       "      <td>Using Legacy Cypher projections is a more flex...</td>\n",
       "    </tr>\n",
       "    <tr>\n",
       "      <th>3</th>\n",
       "      <td>2</td>\n",
       "      <td>https://neo4j.com/docs/graph-data-science/curr...</td>\n",
       "      <td>the Neo4j database management system is stoppe...</td>\n",
       "    </tr>\n",
       "    <tr>\n",
       "      <th>4</th>\n",
       "      <td>3</td>\n",
       "      <td>https://neo4j.com/docs/graph-data-science/curr...</td>\n",
       "      <td>2. Syntax A Legacy Cypher projection takes thr...</td>\n",
       "    </tr>\n",
       "  </tbody>\n",
       "</table>\n",
       "</div>"
      ],
      "text/plain": [
       "  index                                                url  \\\n",
       "0  6430  https://neo4j.com/docs/cypher-manual/current/s...   \n",
       "1     0  https://neo4j.com/docs/graph-data-science/curr...   \n",
       "2     1  https://neo4j.com/docs/graph-data-science/curr...   \n",
       "3     2  https://neo4j.com/docs/graph-data-science/curr...   \n",
       "4     3  https://neo4j.com/docs/graph-data-science/curr...   \n",
       "\n",
       "                                                text  \n",
       "0  For numerical values passed in as parameters, ...  \n",
       "1  Projecting graphs using Cypher (deprecated) Th...  \n",
       "2  Using Legacy Cypher projections is a more flex...  \n",
       "3  the Neo4j database management system is stoppe...  \n",
       "4  2. Syntax A Legacy Cypher projection takes thr...  "
      ]
     },
     "execution_count": 76,
     "metadata": {},
     "output_type": "execute_result"
    }
   ],
   "source": [
    "context_df.head()"
   ]
  },
  {
   "cell_type": "code",
   "execution_count": 79,
   "id": "9f38550b",
   "metadata": {},
   "outputs": [
    {
     "data": {
      "text/plain": [
       "(15292, 3)"
      ]
     },
     "execution_count": 79,
     "metadata": {},
     "output_type": "execute_result"
    }
   ],
   "source": [
    "# download to new dataframe \n",
    "gds_df = pd.DataFrame(run_query('''\n",
    "MATCH (d:Document)\n",
    "RETURN \n",
    "    d.index AS index,\n",
    "    d.community AS community,\n",
    "    d.pageRank AS pageRank\n",
    "'''),columns=[\"index\",\"community\",\"pageRank\"])\n",
    "\n",
    "gds_df.shape"
   ]
  },
  {
   "cell_type": "code",
   "execution_count": 80,
   "id": "bd201764",
   "metadata": {},
   "outputs": [
    {
     "data": {
      "text/html": [
       "<div>\n",
       "<style scoped>\n",
       "    .dataframe tbody tr th:only-of-type {\n",
       "        vertical-align: middle;\n",
       "    }\n",
       "\n",
       "    .dataframe tbody tr th {\n",
       "        vertical-align: top;\n",
       "    }\n",
       "\n",
       "    .dataframe thead th {\n",
       "        text-align: right;\n",
       "    }\n",
       "</style>\n",
       "<table border=\"1\" class=\"dataframe\">\n",
       "  <thead>\n",
       "    <tr style=\"text-align: right;\">\n",
       "      <th></th>\n",
       "      <th>index</th>\n",
       "      <th>community</th>\n",
       "      <th>pageRank</th>\n",
       "    </tr>\n",
       "  </thead>\n",
       "  <tbody>\n",
       "    <tr>\n",
       "      <th>0</th>\n",
       "      <td>6430</td>\n",
       "      <td>13590</td>\n",
       "      <td>0.181992</td>\n",
       "    </tr>\n",
       "    <tr>\n",
       "      <th>1</th>\n",
       "      <td>0</td>\n",
       "      <td>3422</td>\n",
       "      <td>0.335932</td>\n",
       "    </tr>\n",
       "    <tr>\n",
       "      <th>2</th>\n",
       "      <td>1</td>\n",
       "      <td>3422</td>\n",
       "      <td>0.360728</td>\n",
       "    </tr>\n",
       "    <tr>\n",
       "      <th>3</th>\n",
       "      <td>2</td>\n",
       "      <td>3422</td>\n",
       "      <td>0.473814</td>\n",
       "    </tr>\n",
       "    <tr>\n",
       "      <th>4</th>\n",
       "      <td>3</td>\n",
       "      <td>3422</td>\n",
       "      <td>0.982774</td>\n",
       "    </tr>\n",
       "  </tbody>\n",
       "</table>\n",
       "</div>"
      ],
      "text/plain": [
       "  index  community  pageRank\n",
       "0  6430      13590  0.181992\n",
       "1     0       3422  0.335932\n",
       "2     1       3422  0.360728\n",
       "3     2       3422  0.473814\n",
       "4     3       3422  0.982774"
      ]
     },
     "execution_count": 80,
     "metadata": {},
     "output_type": "execute_result"
    }
   ],
   "source": [
    "gds_df.head()"
   ]
  },
  {
   "cell_type": "code",
   "execution_count": 81,
   "id": "9d4710ae",
   "metadata": {},
   "outputs": [
    {
     "data": {
      "text/plain": [
       "(15292, 5)"
      ]
     },
     "execution_count": 81,
     "metadata": {},
     "output_type": "execute_result"
    }
   ],
   "source": [
    "# merge gds values with context df\n",
    "context_df = pd.merge(context_df, gds_df, on=\"index\")\n",
    "context_df.shape"
   ]
  },
  {
   "cell_type": "code",
   "execution_count": 83,
   "id": "cf47d0d5",
   "metadata": {},
   "outputs": [
    {
     "data": {
      "image/png": "[encoded data removed]",
      "text/plain": [
       "<Figure size 640x480 with 1 Axes>"
      ]
     },
     "metadata": {},
     "output_type": "display_data"
    }
   ],
   "source": [
    "import matplotlib.pyplot as plt\n",
    "\n",
    "\n",
    "context_df['community'].value_counts().plot(kind='hist', bins=75)\n",
    "plt.title('Distribution of LPA Community Sizes')\n",
    "plt.show()"
   ]
  }
 ],
 "metadata": {
  "kernelspec": {
   "display_name": ".venv",
   "language": "python",
   "name": "python3"
  },
  "language_info": {
   "codemirror_mode": {
    "name": "ipython",
    "version": 3
   },
   "file_extension": ".py",
   "mimetype": "text/x-python",
   "name": "python",
   "nbconvert_exporter": "python",
   "pygments_lexer": "ipython3",
   "version": "3.10.11"
  }
 },
 "nbformat": 4,
 "nbformat_minor": 5
}
